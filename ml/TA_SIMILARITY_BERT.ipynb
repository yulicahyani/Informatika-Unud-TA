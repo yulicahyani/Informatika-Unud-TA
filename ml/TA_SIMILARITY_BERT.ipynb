{
  "nbformat": 4,
  "nbformat_minor": 0,
  "metadata": {
    "colab": {
      "name": "TA-SIMILARITY-BERT.ipynb",
      "provenance": [],
      "collapsed_sections": []
    },
    "kernelspec": {
      "name": "python3",
      "display_name": "Python 3"
    },
    "language_info": {
      "name": "python"
    }
  },
  "cells": [
    {
      "cell_type": "markdown",
      "source": [
        "# SIMILARITY BERT"
      ],
      "metadata": {
        "id": "0EwP8zo2fE-_"
      }
    },
    {
      "cell_type": "code",
      "source": [
        "!pip install -qq transformers"
      ],
      "metadata": {
        "id": "RGson8gIfX-3",
        "colab": {
          "base_uri": "https://localhost:8080/"
        },
        "outputId": "46651afb-5ab9-4eec-d60f-a990c604b652"
      },
      "execution_count": null,
      "outputs": [
        {
          "output_type": "stream",
          "name": "stdout",
          "text": [
            "\u001b[K     |████████████████████████████████| 3.8 MB 23.3 MB/s \n",
            "\u001b[K     |████████████████████████████████| 67 kB 4.9 MB/s \n",
            "\u001b[K     |████████████████████████████████| 6.5 MB 42.4 MB/s \n",
            "\u001b[K     |████████████████████████████████| 596 kB 45.1 MB/s \n",
            "\u001b[K     |████████████████████████████████| 895 kB 63.6 MB/s \n",
            "\u001b[?25h"
          ]
        }
      ]
    },
    {
      "cell_type": "code",
      "execution_count": null,
      "metadata": {
        "id": "I4TSDdgTeT6m"
      },
      "outputs": [],
      "source": [
        "import re\n",
        "import string\n",
        "from torch import clamp\n",
        "from transformers import AutoTokenizer, AutoModel\n",
        "from sklearn.metrics.pairwise import cosine_similarity\n",
        "\n",
        "MODEL_NAME = 'cahya/bert-base-indonesian-522M'\n",
        "\n",
        "class TokenSimilarity:\n",
        "\n",
        "    def __init__(self, from_pretrained:str=MODEL_NAME):\n",
        "        self.tokenizer = AutoTokenizer.from_pretrained(from_pretrained)\n",
        "        self.model = AutoModel.from_pretrained(from_pretrained)\n",
        "        \n",
        "    def __process(self, first_token:str, second_token:str):\n",
        "        inputs = self.tokenizer([first_token, second_token],\n",
        "                                max_length=self.max_length,\n",
        "                                truncation=self.truncation,\n",
        "                                padding=self.padding,\n",
        "                                return_tensors='pt')\n",
        "\n",
        "        attention = inputs.attention_mask\n",
        "        outputs = self.model(**inputs)\n",
        "        embeddings = outputs[0]\n",
        "        mask = attention.unsqueeze(-1).expand(embeddings.shape).float()\n",
        "        masked_embeddings = embeddings * mask\n",
        "        \n",
        "        summed = masked_embeddings.sum(1)\n",
        "        counts = clamp(mask.sum(1), min=1e-9)\n",
        "        mean_pooled = summed/counts\n",
        "\n",
        "        return mean_pooled.detach().numpy()\n",
        "        \n",
        "    def predict(self, first_token:str, second_token:str, max_length:int=40,\n",
        "                truncation:bool=True, padding:str=\"max_length\"):\n",
        "        self.max_length = max_length\n",
        "        self.truncation = truncation\n",
        "        self.padding = padding\n",
        "\n",
        "        mean_pooled_arr = self.__process(first_token, second_token)\n",
        "        similarity = cosine_similarity([mean_pooled_arr[0]], [mean_pooled_arr[1]])\n",
        "\n",
        "        return similarity"
      ]
    },
    {
      "cell_type": "code",
      "source": [
        "model = TokenSimilarity()"
      ],
      "metadata": {
        "id": "BQJtKANBfcyL"
      },
      "execution_count": null,
      "outputs": []
    },
    {
      "cell_type": "code",
      "source": [
        "token1 = 'menjuarai lomba'\n",
        "token2 = 'Anak kutu buku itu menjuarai lomba matematika.'\n",
        "similarity_score1 = model.predict(token1, token2)\n",
        "similarity_score1"
      ],
      "metadata": {
        "colab": {
          "base_uri": "https://localhost:8080/"
        },
        "id": "w39SiqVMfgZa",
        "outputId": "ae9b4f53-a0d8-4dce-dc40-248c6fbf13cf"
      },
      "execution_count": null,
      "outputs": [
        {
          "output_type": "execute_result",
          "data": {
            "text/plain": [
              "array([[0.59802735]], dtype=float32)"
            ]
          },
          "metadata": {},
          "execution_count": 3
        }
      ]
    },
    {
      "cell_type": "code",
      "source": [
        "import torch\n",
        "PATH = '/content/similarity.bin'\n",
        "torch.save(model, PATH)"
      ],
      "metadata": {
        "id": "RDdSkeCSkDDH"
      },
      "execution_count": null,
      "outputs": []
    },
    {
      "cell_type": "code",
      "source": [
        "model1 = torch.load(PATH)"
      ],
      "metadata": {
        "id": "oMmsN92LkVRC"
      },
      "execution_count": null,
      "outputs": []
    },
    {
      "cell_type": "code",
      "source": [
        "token1 = 'anak'\n",
        "token2 = 'bawang'\n",
        "similarity_score1 = model1.predict(token1, token2)\n",
        "similarity_score1"
      ],
      "metadata": {
        "colab": {
          "base_uri": "https://localhost:8080/"
        },
        "id": "_IkHcOpIkebT",
        "outputId": "c4da8013-8ccb-42ea-e8bb-5b12f88ccfb3"
      },
      "execution_count": null,
      "outputs": [
        {
          "output_type": "execute_result",
          "data": {
            "text/plain": [
              "array([[0.8052218]], dtype=float32)"
            ]
          },
          "metadata": {},
          "execution_count": 9
        }
      ]
    },
    {
      "cell_type": "code",
      "source": [
        "token3 = 'menjadi'\n",
        "token4 = 'anak'\n",
        "similarity_score2 = model.predict(token3, token4)\n",
        "similarity_score2"
      ],
      "metadata": {
        "colab": {
          "base_uri": "https://localhost:8080/"
        },
        "id": "tOunuwfb5E_r",
        "outputId": "8837de49-acab-4ee4-e9ad-ab7bf0f97938"
      },
      "execution_count": null,
      "outputs": [
        {
          "output_type": "execute_result",
          "data": {
            "text/plain": [
              "array([[0.7665013]], dtype=float32)"
            ]
          },
          "metadata": {},
          "execution_count": 22
        }
      ]
    },
    {
      "cell_type": "code",
      "source": [
        ""
      ],
      "metadata": {
        "id": "-SkluNmXheVn"
      },
      "execution_count": null,
      "outputs": []
    },
    {
      "cell_type": "code",
      "source": [
        ""
      ],
      "metadata": {
        "id": "h0nzEFv-heOT"
      },
      "execution_count": null,
      "outputs": []
    }
  ]
}